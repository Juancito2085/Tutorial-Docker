{
 "cells": [
  {
   "cell_type": "code",
   "execution_count": 1,
   "metadata": {},
   "outputs": [],
   "source": [
    "import mysql.connector\n",
    "\n",
    "# Configura tus credenciales y la dirección del servidor\n",
    "user = 'root'  # El usuario por defecto para MySQL es 'root'\n",
    "password = '1234'\n",
    "host = 'localhost'\n",
    "port = '3307'\n",
    "#database = 'mydatabase'  # El nombre de tu base de datos, cámbialo según sea necesario\n",
    "\n",
    "# Conéctate a MySQL\n",
    "cnx = mysql.connector.connect(user=user, password=password,\n",
    "                              host=host, port=port,\n",
    "                              )\n",
    "\n",
    "# Crea un cursor\n",
    "cursor = cnx.cursor()\n",
    "\n",
    "#creo la base de datos si no existe\n",
    "cursor.execute(\"CREATE DATABASE IF NOT EXISTS prueba\")\n",
    "\n",
    "#Uso la base de datos prueba\n",
    "cursor.execute(\"USE prueba\")\n",
    "\n",
    "#creo una tabla con los campos nombre,edad y ID\n",
    "cursor.execute(\"CREATE TABLE personas (nombre VARCHAR(255), edad INT, ID INT AUTO_INCREMENT PRIMARY KEY)\")\n",
    "\n",
    "#lleno 3 filas de la tabla para tener informacion para practicar\n",
    "cursor.execute(\"INSERT INTO personas (nombre, edad) VALUES ('Juan', 25)\")\n",
    "cursor.execute(\"INSERT INTO personas (nombre, edad) VALUES ('Maria', 30)\")\n",
    "cursor.execute(\"INSERT INTO personas (nombre, edad) VALUES ('Pedro', 35)\")\n",
    "\n",
    "cnx.commit() \n",
    "\n",
    "cursor.close()\n",
    "cnx.close()"
   ]
  },
  {
   "cell_type": "code",
   "execution_count": 3,
   "metadata": {},
   "outputs": [
    {
     "name": "stdout",
     "output_type": "stream",
     "text": [
      "('Juan', 25, 1)\n",
      "('Maria', 30, 2)\n",
      "('Pedro', 35, 3)\n"
     ]
    }
   ],
   "source": [
    "#vamos a ver todas las filas de la tabla personas\n",
    "cnx = mysql.connector.connect(user=user, password=password,\n",
    "                              host=host, port=port,\n",
    "                              database='prueba')\n",
    "cursor = cnx.cursor()\n",
    "resultado=cursor.execute(\"SELECT * FROM personas\")\n",
    "resultados=cursor.fetchall()\n",
    "\n",
    "for fila in resultados:\n",
    "    print(fila)"
   ]
  }
 ],
 "metadata": {
  "kernelspec": {
   "display_name": "Python 3",
   "language": "python",
   "name": "python3"
  },
  "language_info": {
   "codemirror_mode": {
    "name": "ipython",
    "version": 3
   },
   "file_extension": ".py",
   "mimetype": "text/x-python",
   "name": "python",
   "nbconvert_exporter": "python",
   "pygments_lexer": "ipython3",
   "version": "3.12.1"
  }
 },
 "nbformat": 4,
 "nbformat_minor": 2
}
