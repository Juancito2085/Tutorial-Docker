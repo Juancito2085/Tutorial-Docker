{
 "cells": [
  {
   "cell_type": "code",
   "execution_count": 8,
   "metadata": {},
   "outputs": [],
   "source": [
    "import mysql.connector\n",
    "\n",
    "# Configura tus credenciales y la dirección del servidor\n",
    "user = 'root'  # El usuario por defecto para MySQL es 'root'\n",
    "password = '1234' # Esta contraseña está relacionada con la variable de entorno MYSQL_ROOT_PASSWORD\n",
    "host = 'localhost' # Esto va debido a que esta corriendo en local en tu máquina\n",
    "port = '3307' # Este puerto es el que se mapea cuando se crea el contenedor\n",
    "\n",
    "\n",
    "# Conéctate a MySQL\n",
    "cnx = mysql.connector.connect(user=user, password=password,\n",
    "                              host=host, port=port,\n",
    "                              )\n",
    "\n",
    "# Crea un cursor\n",
    "cursor = cnx.cursor()\n",
    "\n",
    "# Creo la base de datos si no existe\n",
    "cursor.execute(\"CREATE DATABASE IF NOT EXISTS prueba\")\n",
    "\n",
    "# Uso la base de datos Ejercicio1\n",
    "cursor.execute(\"USE Ejercicio1\")\n",
    "\n",
    "#creo una tabla con los campos nombre,edad y ID\n",
    "cursor.execute(\"CREATE TABLE personas (nombre VARCHAR(255), edad INT, ID INT AUTO_INCREMENT PRIMARY KEY)\")\n",
    "\n",
    "# Lleno 3 filas de la tabla para tener información para practicar\n",
    "cursor.execute(\"INSERT INTO personas (nombre, edad) VALUES ('Juan', 25)\")\n",
    "cursor.execute(\"INSERT INTO personas (nombre, edad) VALUES ('Maria', 30)\")\n",
    "cursor.execute(\"INSERT INTO personas (nombre, edad) VALUES ('Pedro', 35)\")\n",
    "\n",
    "# Para que los cambios queden acentados se debe ejecutar el commit\n",
    "cnx.commit() \n",
    "\n",
    "# Finalmente cierro el cursor y la conexión\n",
    "cursor.close()\n",
    "cnx.close()"
   ]
  },
  {
   "cell_type": "code",
   "execution_count": 9,
   "metadata": {},
   "outputs": [
    {
     "name": "stdout",
     "output_type": "stream",
     "text": [
      "('Juan', 25, 1)\n",
      "('Maria', 30, 2)\n",
      "('Pedro', 35, 3)\n"
     ]
    }
   ],
   "source": [
    "# Vamos a ver todas las filas de la tabla personas\n",
    "\n",
    "# Volvemos a crear la conexión\n",
    "cnx = mysql.connector.connect(user=user, password=password,\n",
    "                              host=host, port=port,\n",
    "                              database='prueba')\n",
    "\n",
    "# Creamos un cursor\n",
    "cursor = cnx.cursor()\n",
    "\n",
    "# Ejecutamos la consulta\n",
    "resultado=cursor.execute(\"SELECT * FROM personas\")\n",
    "\n",
    "# Con fetchall() traemos todas las filas\n",
    "resultados=cursor.fetchall()\n",
    "\n",
    "# Mostramos los resultados\n",
    "for fila in resultados:\n",
    "    print(fila)"
   ]
  }
 ],
 "metadata": {
  "kernelspec": {
   "display_name": "Python 3",
   "language": "python",
   "name": "python3"
  },
  "language_info": {
   "codemirror_mode": {
    "name": "ipython",
    "version": 3
   },
   "file_extension": ".py",
   "mimetype": "text/x-python",
   "name": "python",
   "nbconvert_exporter": "python",
   "pygments_lexer": "ipython3",
   "version": "3.12.1"
  }
 },
 "nbformat": 4,
 "nbformat_minor": 2
}
